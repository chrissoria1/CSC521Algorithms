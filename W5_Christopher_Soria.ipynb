{
  "nbformat": 4,
  "nbformat_minor": 0,
  "metadata": {
    "colab": {
      "provenance": [],
      "authorship_tag": "ABX9TyOP5VOG47jVDDxtd5VFbmwJ",
      "include_colab_link": true
    },
    "kernelspec": {
      "name": "python3",
      "display_name": "Python 3"
    },
    "language_info": {
      "name": "python"
    }
  },
  "cells": [
    {
      "cell_type": "markdown",
      "metadata": {
        "id": "view-in-github",
        "colab_type": "text"
      },
      "source": [
        "<a href=\"https://colab.research.google.com/github/chrissoria1/CSC521Algorithms/blob/main/W5_Christopher_Soria.ipynb\" target=\"_parent\"><img src=\"https://colab.research.google.com/assets/colab-badge.svg\" alt=\"Open In Colab\"/></a>"
      ]
    },
    {
      "cell_type": "markdown",
      "source": [
        "A. Bogo Sort"
      ],
      "metadata": {
        "id": "vE8qtfRJwOQ8"
      }
    },
    {
      "cell_type": "code",
      "execution_count": 13,
      "metadata": {
        "colab": {
          "base_uri": "https://localhost:8080/"
        },
        "id": "2JXN85P_nfio",
        "outputId": "4e86d434-8ad4-4857-dd87-cf682b20882b"
      },
      "outputs": [
        {
          "output_type": "stream",
          "name": "stdout",
          "text": [
            "Current array state:  [5, 2, 16, 9]\n",
            "Current array state:  [2, 5, 9, 16]\n",
            "====================================\n",
            "Sorted array:\n",
            "25916\n",
            "====================================\n"
          ]
        }
      ],
      "source": [
        "import random\n",
        "\n",
        "#Sorts array a[0..n-1] using Bubble sort\n",
        "def bogoSort(a):\n",
        "  n = len(a)\n",
        "  while not is_sorted(a): # Checks if sorted\n",
        "    shuffle(a) #shuffles values in the array if not sorted\n",
        "    print(\"Current array state: \", a)\n",
        "\n",
        "#To check if array is sorted or not\n",
        "def is_sorted(a):\n",
        "  n = len(a)\n",
        "  for i in range (0, n-1):\n",
        "    if a[i]>a[i+1]:\n",
        "      return False\n",
        "  return True\n",
        "\n",
        "#To generate permuation of the array\n",
        "def shuffle(a):\n",
        "  n = len(a)\n",
        "  for i in range(n):\n",
        "    r = random.randint(0, n-1)\n",
        "    a[i], a[r] = a[r], a[i]\n",
        "\n",
        "#driver code to test score\n",
        "a = [5,2,9,16]\n",
        "bogoSort(a)\n",
        "print(\"====================================\")\n",
        "print(\"Sorted array:\")\n",
        "print(\"\".join(str(x) for x in a))\n",
        "print(\"====================================\")"
      ]
    },
    {
      "cell_type": "markdown",
      "source": [
        "B. Bogo Sort"
      ],
      "metadata": {
        "id": "452SlwUdvBNb"
      }
    },
    {
      "cell_type": "markdown",
      "source": [
        "1. the code starts with [5,2,9,16].\n",
        "2. Then checks if its sorted\n",
        "3. Since the start values of the array is not sorted it shuffles to this: [5,2,16,9]\n",
        "4. Then checks if those values is sorted or not and since its not it reshuffles till we have an array that is sorted."
      ],
      "metadata": {
        "id": "OwcvviH4wUF6"
      }
    },
    {
      "cell_type": "markdown",
      "source": [
        "C. Bogo Sort"
      ],
      "metadata": {
        "id": "0VGotjKzxj1r"
      }
    },
    {
      "cell_type": "code",
      "source": [
        "#driver code to test score with different values\n",
        "b = [54,25,69,14]\n",
        "bogoSort(b)\n",
        "print(\"====================================\")\n",
        "print(\"Sorted array:\")\n",
        "print(\"\".join(str(x) for x in b))\n",
        "print(\"====================================\")"
      ],
      "metadata": {
        "colab": {
          "base_uri": "https://localhost:8080/"
        },
        "id": "pCaLHbk9xnDT",
        "outputId": "8b8eb980-094a-446f-ba4d-91784c32e876"
      },
      "execution_count": 15,
      "outputs": [
        {
          "output_type": "stream",
          "name": "stdout",
          "text": [
            "Current array state:  [54, 14, 69, 25]\n",
            "Current array state:  [54, 69, 25, 14]\n",
            "Current array state:  [54, 69, 14, 25]\n",
            "Current array state:  [25, 14, 69, 54]\n",
            "Current array state:  [25, 69, 54, 14]\n",
            "Current array state:  [69, 14, 25, 54]\n",
            "Current array state:  [25, 69, 14, 54]\n",
            "Current array state:  [14, 54, 25, 69]\n",
            "Current array state:  [54, 69, 14, 25]\n",
            "Current array state:  [14, 54, 69, 25]\n",
            "Current array state:  [25, 54, 69, 14]\n",
            "Current array state:  [25, 54, 69, 14]\n",
            "Current array state:  [69, 54, 14, 25]\n",
            "Current array state:  [69, 54, 25, 14]\n",
            "Current array state:  [69, 14, 25, 54]\n",
            "Current array state:  [54, 25, 14, 69]\n",
            "Current array state:  [69, 25, 14, 54]\n",
            "Current array state:  [54, 14, 25, 69]\n",
            "Current array state:  [54, 25, 14, 69]\n",
            "Current array state:  [25, 14, 69, 54]\n",
            "Current array state:  [69, 14, 54, 25]\n",
            "Current array state:  [54, 25, 14, 69]\n",
            "Current array state:  [54, 69, 25, 14]\n",
            "Current array state:  [25, 54, 14, 69]\n",
            "Current array state:  [69, 54, 14, 25]\n",
            "Current array state:  [54, 69, 14, 25]\n",
            "Current array state:  [25, 69, 14, 54]\n",
            "Current array state:  [54, 25, 14, 69]\n",
            "Current array state:  [14, 54, 69, 25]\n",
            "Current array state:  [25, 14, 69, 54]\n",
            "Current array state:  [54, 69, 14, 25]\n",
            "Current array state:  [14, 69, 54, 25]\n",
            "Current array state:  [14, 54, 25, 69]\n",
            "Current array state:  [54, 69, 25, 14]\n",
            "Current array state:  [69, 54, 14, 25]\n",
            "Current array state:  [14, 69, 54, 25]\n",
            "Current array state:  [54, 14, 25, 69]\n",
            "Current array state:  [14, 54, 69, 25]\n",
            "Current array state:  [69, 14, 54, 25]\n",
            "Current array state:  [14, 25, 54, 69]\n",
            "====================================\n",
            "Sorted array:\n",
            "14255469\n",
            "====================================\n"
          ]
        }
      ]
    },
    {
      "cell_type": "markdown",
      "source": [
        "Since the code suffles at random we dont really know how many shuffles it will take to get a sorted array."
      ],
      "metadata": {
        "id": "JiDo_H-nyEVz"
      }
    },
    {
      "cell_type": "markdown",
      "source": [
        "A. Bubble Sort"
      ],
      "metadata": {
        "id": "f0aZCMTYpX_a"
      }
    },
    {
      "cell_type": "code",
      "source": [
        "def bubbleSort(arr):\n",
        "  n = len(arr)\n",
        "  #Traverse through all array elements\n",
        "  for i in range(n):\n",
        "    #Last i elements are already in place\n",
        "    for j in range(0, n-i-1):\n",
        "      #Traverse the array from 0 to n-i-1\n",
        "      if arr[j] >arr[j+1]:\n",
        "        arr[j], arr[j+1] = arr[j+1], arr[j]\n",
        "      #Print the array after each swap\n",
        "      print(\"Step: \",arr)\n",
        "    print(\"After pass\", i+1, \".\", arr)\n",
        "    print(\"\")\n",
        "  return arr\n",
        "\n",
        "# Driver code to test above\n",
        "arr = [5,2,9,1,6]\n",
        "print(\"Original array: \", arr)\n",
        "sorted_arr = bubbleSort(arr)\n",
        "print(\"Sorted array: \", sorted_arr)\n"
      ],
      "metadata": {
        "colab": {
          "base_uri": "https://localhost:8080/"
        },
        "id": "ZGQHBj49oVVz",
        "outputId": "8ccccbbe-f98f-44d8-dc56-2db2aa79a6d3"
      },
      "execution_count": 16,
      "outputs": [
        {
          "output_type": "stream",
          "name": "stdout",
          "text": [
            "Original array:  [5, 2, 9, 1, 6]\n",
            "Step:  [2, 5, 9, 1, 6]\n",
            "Step:  [2, 5, 9, 1, 6]\n",
            "Step:  [2, 5, 1, 9, 6]\n",
            "Step:  [2, 5, 1, 6, 9]\n",
            "After pass 1 . [2, 5, 1, 6, 9]\n",
            "\n",
            "Step:  [2, 5, 1, 6, 9]\n",
            "Step:  [2, 1, 5, 6, 9]\n",
            "Step:  [2, 1, 5, 6, 9]\n",
            "After pass 2 . [2, 1, 5, 6, 9]\n",
            "\n",
            "Step:  [1, 2, 5, 6, 9]\n",
            "Step:  [1, 2, 5, 6, 9]\n",
            "After pass 3 . [1, 2, 5, 6, 9]\n",
            "\n",
            "Step:  [1, 2, 5, 6, 9]\n",
            "After pass 4 . [1, 2, 5, 6, 9]\n",
            "\n",
            "After pass 5 . [1, 2, 5, 6, 9]\n",
            "\n",
            "Sorted array:  [1, 2, 5, 6, 9]\n"
          ]
        }
      ]
    },
    {
      "cell_type": "markdown",
      "source": [
        "B. Bubble Sort\n",
        "\n",
        "Pass 1:\n",
        "1. Compare, 5 and 2, swap 5 and 2  --> [2,5,9,1,6] because 5>2\n",
        "2. Compare 5 and 9 , no swap needed\n",
        "3. Compare 9 and 1, swap 9 and 1 ---> [2,5,1,9,6] because 9>1\n",
        "4. Compare 9 and 6, swap 9 and 6  --> [2,5,1,6,9] because 9>6\n",
        "\n",
        "Pass 2:\n",
        "1. Compare 5 and 2, no swap\n",
        "2. Compare 5 and 1, swap 5 and 1 ---> [2,1,5,6,9] becasue 5 > 1\n",
        "3. Compare 5 and 6, no swap.\n",
        "\n",
        "Pass 3:\n",
        "1. Compare 2 and 1, swap 2 and 1 ---> [1,2,5,6,9] because 2 > 1.\n",
        "2. Commpare 2 and 5, no swap\n",
        "\n",
        "Pass 4:\n",
        "compare 1 and 2, no swap\n",
        "\n",
        "Pass 5:\n",
        "nothing to compare\n",
        "\n",
        "Resulting in [1,2,5,6,9] which is sorted.\n",
        "\n"
      ],
      "metadata": {
        "id": "PFUUb_6py8IX"
      }
    },
    {
      "cell_type": "markdown",
      "source": [
        "C. Bubble Sort"
      ],
      "metadata": {
        "id": "uBzIXFnIz7YT"
      }
    },
    {
      "cell_type": "code",
      "source": [
        "# Driver code to test score with different values\n",
        "arr = [8,3,7,4,2]\n",
        "print(\"Original array: \", arr)\n",
        "sorted_arr = bubbleSort(arr)\n",
        "print(\"Sorted array: \", sorted_arr)"
      ],
      "metadata": {
        "colab": {
          "base_uri": "https://localhost:8080/"
        },
        "id": "DRPqf2Xuz64b",
        "outputId": "85df20d5-f007-44fc-f1c0-8ae3354318e1"
      },
      "execution_count": 19,
      "outputs": [
        {
          "output_type": "stream",
          "name": "stdout",
          "text": [
            "Original array:  [8, 3, 7, 4, 2]\n",
            "Step:  [3, 8, 7, 4, 2]\n",
            "Step:  [3, 7, 8, 4, 2]\n",
            "Step:  [3, 7, 4, 8, 2]\n",
            "Step:  [3, 7, 4, 2, 8]\n",
            "After pass 1 . [3, 7, 4, 2, 8]\n",
            "\n",
            "Step:  [3, 7, 4, 2, 8]\n",
            "Step:  [3, 4, 7, 2, 8]\n",
            "Step:  [3, 4, 2, 7, 8]\n",
            "After pass 2 . [3, 4, 2, 7, 8]\n",
            "\n",
            "Step:  [3, 4, 2, 7, 8]\n",
            "Step:  [3, 2, 4, 7, 8]\n",
            "After pass 3 . [3, 2, 4, 7, 8]\n",
            "\n",
            "Step:  [2, 3, 4, 7, 8]\n",
            "After pass 4 . [2, 3, 4, 7, 8]\n",
            "\n",
            "After pass 5 . [2, 3, 4, 7, 8]\n",
            "\n",
            "Sorted array:  [2, 3, 4, 7, 8]\n"
          ]
        }
      ]
    },
    {
      "cell_type": "markdown",
      "source": [
        "Pass 1:\n",
        "1. compare 8 and 3, since 8 is greater than 3 swap -> [3,8,7,4,2]\n",
        "2. Compare 8 and 7, since 8 is greater than 7 swap -> [3,7,8,4,2]\n",
        "3. Compare 8 and 4, since 8 is greater than 4 swap -> [3,7,4,8,2]\n",
        "4. Compare 8 and 2, since 8 is greater than 2 swap -> [3,7,4,2,8]\n",
        "\n",
        "\n",
        "Pass 2:\n",
        "1. Compare 3 and 7, no swap since 3 is less than 7\n",
        "2. Conpare 7 and 4, since 7 is greater then 4 swap -> [3,4,7,2,8]\n",
        "3. Compare 7 and 4, since 7 is greater than 2 swap -> [3,4,2,7,8]\n",
        "\n",
        "Pass 3:\n",
        "1. Compare 3 and 4, no swap needed since 3 is less than 4.\n",
        "2. Compare 4 and 2, since 4 is greater than 2 swap -> [3,2,4,7,8]\n",
        "\n",
        "Pass 4:\n",
        "1. Compare 3 an 2, since 3 is greater than 2 swap -> [2,3,4,7,8]\n",
        "\n",
        "Final result is [2,3,4,7,8]"
      ],
      "metadata": {
        "id": "Dba8k3SYL1Gj"
      }
    },
    {
      "cell_type": "markdown",
      "source": [
        "A. Selection Sort"
      ],
      "metadata": {
        "id": "whyY-lpIqjoD"
      }
    },
    {
      "cell_type": "code",
      "source": [
        "def selectionSort(arr):\n",
        "  n = len(arr)\n",
        "  #Traverse through all array elements\n",
        "  for i in range(n):\n",
        "    #Find the minimum element in remaining unsorted array\n",
        "    min_idx = i\n",
        "    for j in range(i+1, n):\n",
        "      if arr[j] < arr[min_idx]:\n",
        "        min_idx = j\n",
        "    #Swap the found minimum element withthe first element of the unsorted part\n",
        "    arr[i], arr[min_idx] = arr[min_idx], arr[i]\n",
        "\n",
        "    #Print the array after each iteration of the selection sort\n",
        "    print(\"After iteration\", i+1, \":\", arr)\n",
        "\n",
        "  return arr\n",
        "\n",
        "#Driver code to test above\n",
        "arr = [5,2,9,1,6]\n",
        "print(\"Original array: \", arr)\n",
        "sorted_arr = selectionSort(arr)\n",
        "print(\"Sorted array: \", sorted_arr)"
      ],
      "metadata": {
        "colab": {
          "base_uri": "https://localhost:8080/"
        },
        "id": "2Mbz5tx2ql8U",
        "outputId": "4339f960-031e-42d3-b43b-db8744ada1dd"
      },
      "execution_count": 18,
      "outputs": [
        {
          "output_type": "stream",
          "name": "stdout",
          "text": [
            "Original array:  [5, 2, 9, 1, 6]\n",
            "After iteration 1 : [1, 2, 9, 5, 6]\n",
            "After iteration 2 : [1, 2, 9, 5, 6]\n",
            "After iteration 3 : [1, 2, 5, 9, 6]\n",
            "After iteration 4 : [1, 2, 5, 6, 9]\n",
            "After iteration 5 : [1, 2, 5, 6, 9]\n",
            "Sorted array:  [1, 2, 5, 6, 9]\n"
          ]
        }
      ]
    },
    {
      "cell_type": "markdown",
      "source": [
        "B. Selection Sort"
      ],
      "metadata": {
        "id": "MAy_ALTw0OBq"
      }
    },
    {
      "cell_type": "markdown",
      "source": [
        "we first find the smallest value in the unsorted and swap it inot position\n",
        "\n",
        "Iteration 1:\n",
        "1. the smallest in the array is 1 so we swap that that with the number that exist in the index 0. --> [1,2,9,5,6]\n",
        "\n",
        "Iteration 2:\n",
        "\n",
        "2. the smallest in [2,9,5,6] is 2 but since 2 is already in the front it swap swith itself. -> [1,2,9,5,6]\n",
        "\n",
        "Iteration 3:\n",
        "\n",
        "3. smallest value in [9,5,6] is 5 so we swap that with the value at the front which is 9 so out result is [1,2,5,9,6]\n",
        "\n",
        "Iteration 4:\n",
        "\n",
        "4. smallest is 6 in [9,6] so we swap that withthe front value so the result is [1,2,5,6,9]\n",
        "\n",
        "\n"
      ],
      "metadata": {
        "id": "pX_MCaojNs1q"
      }
    },
    {
      "cell_type": "markdown",
      "source": [
        "C. Selection Sort"
      ],
      "metadata": {
        "id": "YYyiS-bMQPGC"
      }
    },
    {
      "cell_type": "code",
      "source": [
        "# Driver code to test score with different values\n",
        "arr2 = [8,3,7,4,2]\n",
        "print(\"Original array: \", arr2)\n",
        "sorted_arr = selectionSort(arr2)\n",
        "print(\"Sorted array: \", sorted_arr)"
      ],
      "metadata": {
        "colab": {
          "base_uri": "https://localhost:8080/"
        },
        "id": "3sOCoNsaOD6Z",
        "outputId": "1b70f33c-dbfe-47c0-e299-be9495a9fa5d"
      },
      "execution_count": 20,
      "outputs": [
        {
          "output_type": "stream",
          "name": "stdout",
          "text": [
            "Original array:  [8, 3, 7, 4, 2]\n",
            "After iteration 1 : [2, 3, 7, 4, 8]\n",
            "After iteration 2 : [2, 3, 7, 4, 8]\n",
            "After iteration 3 : [2, 3, 4, 7, 8]\n",
            "After iteration 4 : [2, 3, 4, 7, 8]\n",
            "After iteration 5 : [2, 3, 4, 7, 8]\n",
            "Sorted array:  [2, 3, 4, 7, 8]\n"
          ]
        }
      ]
    },
    {
      "cell_type": "markdown",
      "source": [
        "The same steps goes for the the above where it checks the smallest vlaue in the array and swaps it with the first value and then after each iteration it compare the smallest withte the next value thats next after the first value."
      ],
      "metadata": {
        "id": "sE5iMHtlQdDS"
      }
    },
    {
      "cell_type": "markdown",
      "source": [
        "PART C:"
      ],
      "metadata": {
        "id": "h-McJwabRC38"
      }
    },
    {
      "cell_type": "markdown",
      "source": [
        "Selection Sort did fewer swaps\n",
        "so if we were to compare for the array [5,2,9,1,6] Bubble total swaps = 5 and Selection  = 3\n",
        "\n",
        "For the [8,3,7,4,2] Bubble had a total of 8 swaps and Selection 2 effective swaps so it would be safe to say that selection does run faster."
      ],
      "metadata": {
        "id": "xlaY6FMWRF0S"
      }
    },
    {
      "cell_type": "markdown",
      "source": [
        "The algorithm that the slowest would be Bogo since it shuffles at random till it gets the sorted array and if we have a big array it could take too long."
      ],
      "metadata": {
        "id": "FtY8uRzHVBzE"
      }
    },
    {
      "cell_type": "markdown",
      "source": [
        "Bogo sort is impractical because it just shuffles ranomdly until the array happens to be sorted, so it could take a very very long time unless you get lucky. As for Bubble and Slection it is predictiable with O(n^2) and will always terminate quickly for small n."
      ],
      "metadata": {
        "id": "ySo9LxVUVDuk"
      }
    }
  ]
}