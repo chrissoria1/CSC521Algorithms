{
  "nbformat": 4,
  "nbformat_minor": 0,
  "metadata": {
    "colab": {
      "provenance": [],
      "include_colab_link": true
    },
    "kernelspec": {
      "name": "python3",
      "display_name": "Python 3"
    },
    "language_info": {
      "name": "python"
    }
  },
  "cells": [
    {
      "cell_type": "markdown",
      "metadata": {
        "id": "view-in-github",
        "colab_type": "text"
      },
      "source": [
        "<a href=\"https://colab.research.google.com/github/chrissoria1/CSC521Algorithms/blob/main/Brute_Force_Linear_Search.ipynb\" target=\"_parent\"><img src=\"https://colab.research.google.com/assets/colab-badge.svg\" alt=\"Open In Colab\"/></a>"
      ]
    },
    {
      "cell_type": "code",
      "execution_count": 2,
      "metadata": {
        "colab": {
          "base_uri": "https://localhost:8080/"
        },
        "id": "DnzNiaGP011S",
        "outputId": "c8fd412f-79ff-4c5d-8c50-14e4c73599e6"
      },
      "outputs": [
        {
          "output_type": "stream",
          "name": "stdout",
          "text": [
            "Iteration 1: Checking element 1\n",
            "Iteration 2: Checking element 3\n",
            "Iteration 3: Checking element 5\n",
            "Iteration 4: Checking element 7\n",
            "Iteration 5: Checking element 9\n",
            "Iteration 6: Checking element 10\n",
            "Iteration 7: Checking element 79\n",
            "Iteration 8: Checking element 81\n",
            "Target 81 found at index 7\n"
          ]
        }
      ],
      "source": [
        "def linear_search(arr, target):\n",
        "    \"\"\"\n",
        "    Perform a linear search on the given array to find the target element.\n",
        "    Parameters:\n",
        "        arr (list): The list of elements to search through\n",
        "        target (any): The element we want to find\n",
        "    Returns:\n",
        "        int: The index of the target if found, otherwise -1\n",
        "    \"\"\"\n",
        "\n",
        "    # Loop through each element in the array using its index\n",
        "    for i in range(len(arr)):\n",
        "        # Print the current state of the search (for understanding the process)\n",
        "        print(f\"Iteration {i + 1}: Checking element {arr[i]}\")\n",
        "\n",
        "        # Check if the current element is equal to the target\n",
        "        if arr[i] == target:\n",
        "            print(f\"Target {target} found at index {i}\")\n",
        "            return i  # Return the index where the target is found\n",
        "\n",
        "    # If the loop finishes without finding the target, print a message\n",
        "    print(f\"Target {target} not found in the array\")\n",
        "    return -1  # Return -1 when the target does not exist in the array\n",
        "\n",
        "\n",
        "# Example usage\n",
        "arr = [1, 3, 5, 7, 9, 10, 79, 81]  # Sample list of numbers\n",
        "target = 81  # Element we want to search for\n",
        "\n",
        "# Call the linear_search function\n",
        "result = linear_search(arr, target)\n",
        "\n",
        "# Check the result and print an additional message\n",
        "if result == -1:\n",
        "    print(\"Element not found\")\n"
      ]
    }
  ]
}