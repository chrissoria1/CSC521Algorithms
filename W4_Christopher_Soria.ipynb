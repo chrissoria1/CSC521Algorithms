{
  "nbformat": 4,
  "nbformat_minor": 0,
  "metadata": {
    "colab": {
      "provenance": [],
      "authorship_tag": "ABX9TyPxHQNGsloayDAQTP8OlXwa",
      "include_colab_link": true
    },
    "kernelspec": {
      "name": "python3",
      "display_name": "Python 3"
    },
    "language_info": {
      "name": "python"
    }
  },
  "cells": [
    {
      "cell_type": "markdown",
      "metadata": {
        "id": "view-in-github",
        "colab_type": "text"
      },
      "source": [
        "<a href=\"https://colab.research.google.com/github/chrissoria1/CSC521Algorithms/blob/main/W4_Christopher_Soria.ipynb\" target=\"_parent\"><img src=\"https://colab.research.google.com/assets/colab-badge.svg\" alt=\"Open In Colab\"/></a>"
      ]
    },
    {
      "cell_type": "markdown",
      "source": [
        "Problem 1"
      ],
      "metadata": {
        "id": "NI-zcFPuJF2Q"
      }
    },
    {
      "cell_type": "code",
      "execution_count": 3,
      "metadata": {
        "colab": {
          "base_uri": "https://localhost:8080/"
        },
        "id": "5YDopaDHFH6Q",
        "outputId": "400ece9e-3233-4f9f-bb34-2f4631ac5383"
      },
      "outputs": [
        {
          "output_type": "execute_result",
          "data": {
            "text/plain": [
              "5"
            ]
          },
          "metadata": {},
          "execution_count": 3
        }
      ],
      "source": [
        "def problem1(n: int) -> int:\n",
        "    s = 0\n",
        "    for i in range(1, n + 1):\n",
        "        s += i * i\n",
        "    return s\n",
        "\n",
        "problem1(2)"
      ]
    },
    {
      "cell_type": "markdown",
      "source": [
        "1. This Computes the sum of the squares of the first n positive integers.\n",
        "2. Basic operation: compute i X i and add to S\n",
        "3. It was Done in n times\n",
        "4. Time: O(n)\n",
        "5. S = (n(n+1)(2n+1))/6 => O(1)"
      ],
      "metadata": {
        "id": "dZgakub-Q3lo"
      }
    },
    {
      "cell_type": "markdown",
      "source": [
        "Problem 2"
      ],
      "metadata": {
        "id": "MWBlI1oXJIio"
      }
    },
    {
      "cell_type": "code",
      "source": [
        "def problem2(A):\n",
        "    n = len(A)\n",
        "    if any(len(row) != n for row in A):\n",
        "        raise ValueError(\"Matrix must be square\")\n",
        "    for i in range(n):\n",
        "        for j in range(i + 1, n):\n",
        "            if A[i][j] != A[j][i]:\n",
        "                return False\n",
        "    return True"
      ],
      "metadata": {
        "id": "3Rseq_q6JJ7I"
      },
      "execution_count": 4,
      "outputs": []
    },
    {
      "cell_type": "code",
      "source": [
        "A  = [[1, 2, 3],[2, 5, 6],[3, 6, 3]]\n",
        "B = [[0, 1, 2], [2, 0, 4], [3, 6, 0]]\n",
        "print(problem2(A))\n",
        "print(problem2(B))"
      ],
      "metadata": {
        "colab": {
          "base_uri": "https://localhost:8080/"
        },
        "id": "btSvpa7pJTpZ",
        "outputId": "179127f2-4ffe-4433-c612-f119cfaee140"
      },
      "execution_count": 5,
      "outputs": [
        {
          "output_type": "stream",
          "name": "stdout",
          "text": [
            "True\n",
            "False\n"
          ]
        }
      ]
    },
    {
      "cell_type": "markdown",
      "source": [
        "1. It checks whether the matrix A is synmetic. if every mirrored pair matches\n",
        "2. it checks whether A[i,j] != A[j,i]\n",
        "3. It compares only entries above the diagonal to their mirrors under it so it does (n(n-1))/2 comparisons\n",
        "4. O(n^2)\n",
        "5. stop eaarly on the first mismatch and if its in the worst case, you could possibly check about half the entries, so O(n^2) is essentially the best possible without extra structure."
      ],
      "metadata": {
        "id": "1nU-hQVMSCma"
      }
    },
    {
      "cell_type": "markdown",
      "source": [
        "PROBEM 3"
      ],
      "metadata": {
        "id": "3obnyFOQX_My"
      }
    },
    {
      "cell_type": "markdown",
      "source": [
        "1. Since the Time algorithm has 3 loops inside each other and is each loop goes up to n, then the total work is counting to n 3 times so the efficiency would be O(n^3)\n",
        "2. Inside the innermost loop, it keeps dividing by the same number again and again and it not nessessary because A[i][i] doesnt chnage inside that loop, to speed up the algorithm you could save the variable once, before the inner loop starts and reuse it, so then it would avoid repetition."
      ],
      "metadata": {
        "id": "rp_VJSgfVw5B"
      }
    }
  ]
}